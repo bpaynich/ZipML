{
 "cells": [
  {
   "cell_type": "code",
   "execution_count": 30,
   "metadata": {},
   "outputs": [],
   "source": [
    "# Import API key\n",
    "from api import owm_key\n",
    "import requests\n"
   ]
  },
  {
   "cell_type": "code",
   "execution_count": 25,
   "metadata": {},
   "outputs": [
    {
     "name": "stdout",
     "output_type": "stream",
     "text": [
      "http://api.openweathermap.org/data/2.5/weather?appid=151d99e47afc25dafce4fca8ec299da8&zip=85016&units=imperial\n"
     ]
    }
   ],
   "source": [
    "# Prepare for API call\n",
    "base_url = \"http://api.openweathermap.org/data/2.5/weather?\"\n",
    "units = \"imperial\"\n",
    "zip_code=85016\n",
    "\n",
    "\n",
    "query_url = f\"{base_url}appid={owm_key}&zip={zip_code}&units={units}\"\n",
    "# print(query_url)"
   ]
  },
  {
   "cell_type": "code",
   "execution_count": 26,
   "metadata": {},
   "outputs": [
    {
     "name": "stdout",
     "output_type": "stream",
     "text": [
      "{'coord': {'lon': -112.02, 'lat': 33.51}, 'weather': [{'id': 804, 'main': 'Clouds', 'description': 'overcast clouds', 'icon': '04n'}], 'base': 'stations', 'main': {'temp': 73.6, 'pressure': 1005, 'humidity': 25, 'temp_min': 68, 'temp_max': 77}, 'visibility': 16093, 'wind': {'speed': 19.46, 'deg': 300}, 'clouds': {'all': 90}, 'dt': 1558319800, 'sys': {'type': 1, 'id': 5347, 'message': 0.0083, 'country': 'US', 'sunrise': 1558268714, 'sunset': 1558319048}, 'id': 420001082, 'name': 'Phoenix', 'cod': 200}\n"
     ]
    }
   ],
   "source": [
    "# Get the weather data from operweathermap.org\n",
    "data = requests.get(query_url).json()\n",
    "# print(data)"
   ]
  },
  {
   "cell_type": "code",
   "execution_count": 32,
   "metadata": {},
   "outputs": [
    {
     "name": "stdout",
     "output_type": "stream",
     "text": [
      "Name: Phoenix, Temp: 73.6\n"
     ]
    }
   ],
   "source": [
    "weather=f'Name: {data[\"name\"]}, Temp: {data[\"main\"][\"temp\"]}'\n",
    "print(weather)"
   ]
  },
  {
   "cell_type": "code",
   "execution_count": null,
   "metadata": {},
   "outputs": [],
   "source": []
  },
  {
   "cell_type": "code",
   "execution_count": null,
   "metadata": {},
   "outputs": [],
   "source": []
  }
 ],
 "metadata": {
  "kernelspec": {
   "display_name": "Python 3",
   "language": "python",
   "name": "python3"
  },
  "language_info": {
   "codemirror_mode": {
    "name": "ipython",
    "version": 3
   },
   "file_extension": ".py",
   "mimetype": "text/x-python",
   "name": "python",
   "nbconvert_exporter": "python",
   "pygments_lexer": "ipython3",
   "version": "3.6.6"
  }
 },
 "nbformat": 4,
 "nbformat_minor": 2
}
