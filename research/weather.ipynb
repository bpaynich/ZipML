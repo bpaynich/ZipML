{
 "cells": [
  {
   "cell_type": "code",
   "execution_count": 1,
   "metadata": {},
   "outputs": [],
   "source": [
    "# Import API key\n",
    "from api import owm_key\n",
    "import requests\n"
   ]
  },
  {
   "cell_type": "code",
   "execution_count": 4,
   "metadata": {},
   "outputs": [],
   "source": [
    "# Prepare for API call\n",
    "base_url = \"http://api.openweathermap.org/data/2.5/weather?\"\n",
    "units = \"imperial\"\n",
    "zip_code=85031\n",
    "\n",
    "\n",
    "query_url = f\"{base_url}appid={owm_key}&zip={zip_code}&units={units}\"\n",
    "# print(query_url)"
   ]
  },
  {
   "cell_type": "code",
   "execution_count": 5,
   "metadata": {},
   "outputs": [],
   "source": [
    "# Get the weather data from operweathermap.org\n",
    "data = requests.get(query_url).json()\n",
    "# print(data)"
   ]
  },
  {
   "cell_type": "code",
   "execution_count": 6,
   "metadata": {},
   "outputs": [
    {
     "name": "stdout",
     "output_type": "stream",
     "text": [
      "Name: Glendale, Temp: 69.33\n"
     ]
    }
   ],
   "source": [
    "weather=f'Name: {data[\"name\"]}, Temp: {data[\"main\"][\"temp\"]}'\n",
    "print(weather)"
   ]
  },
  {
   "cell_type": "code",
   "execution_count": 7,
   "metadata": {},
   "outputs": [],
   "source": [
    "def weather(zip_code):\n",
    "    base_url = \"http://api.openweathermap.org/data/2.5/weather?\"\n",
    "    units = \"imperial\"\n",
    "    query_url = f\"{base_url}appid={owm_key}&zip={zip_code}&units={units}\"\n",
    "    weather_data = requests.get(query_url).json()\n",
    "#     print(weather_data)\n",
    "    return weather_data\n",
    "\n"
   ]
  },
  {
   "cell_type": "code",
   "execution_count": 8,
   "metadata": {},
   "outputs": [
    {
     "data": {
      "text/plain": [
       "{'coord': {'lon': -112.17, 'lat': 33.51},\n",
       " 'weather': [{'id': 802,\n",
       "   'main': 'Clouds',\n",
       "   'description': 'scattered clouds',\n",
       "   'icon': '03n'}],\n",
       " 'base': 'stations',\n",
       " 'main': {'temp': 69.33,\n",
       "  'pressure': 1008,\n",
       "  'humidity': 21,\n",
       "  'temp_min': 64,\n",
       "  'temp_max': 73.4},\n",
       " 'visibility': 16093,\n",
       " 'wind': {'speed': 8.05, 'deg': 220},\n",
       " 'clouds': {'all': 40},\n",
       " 'dt': 1558407442,\n",
       " 'sys': {'type': 1,\n",
       "  'id': 4294,\n",
       "  'message': 0.0081,\n",
       "  'country': 'US',\n",
       "  'sunrise': 1558355114,\n",
       "  'sunset': 1558405527},\n",
       " 'id': 420001125,\n",
       " 'name': 'Glendale',\n",
       " 'cod': 200}"
      ]
     },
     "execution_count": 8,
     "metadata": {},
     "output_type": "execute_result"
    }
   ],
   "source": [
    "weather(85031)"
   ]
  },
  {
   "cell_type": "code",
   "execution_count": null,
   "metadata": {},
   "outputs": [],
   "source": []
  }
 ],
 "metadata": {
  "kernelspec": {
   "display_name": "Python 3",
   "language": "python",
   "name": "python3"
  },
  "language_info": {
   "codemirror_mode": {
    "name": "ipython",
    "version": 3
   },
   "file_extension": ".py",
   "mimetype": "text/x-python",
   "name": "python",
   "nbconvert_exporter": "python",
   "pygments_lexer": "ipython3",
   "version": "3.6.6"
  }
 },
 "nbformat": 4,
 "nbformat_minor": 2
}
