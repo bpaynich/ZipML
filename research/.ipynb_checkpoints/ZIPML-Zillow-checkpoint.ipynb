{
 "cells": [
  {
   "cell_type": "code",
   "execution_count": 76,
   "metadata": {},
   "outputs": [],
   "source": [
    "import requests\n",
    "import json\n",
    "import xmltodict\n",
    "\n"
   ]
  },
  {
   "cell_type": "code",
   "execution_count": 79,
   "metadata": {},
   "outputs": [
    {
     "name": "stdout",
     "output_type": "stream",
     "text": [
      "Processing: https://www.zillow.com/webservice/GetRegionChildren.htm?zws-id=X1-ZWz1h2w2gwiznv_55f1z&state=ct&city=cheshire&childtype=zipcode\n"
     ]
    }
   ],
   "source": [
    "# Prepare for API call\n",
    "base_url = \"https://www.zillow.com/webservice/GetRegionChildren.htm?\"\n",
    "zws_id=\"X1-ZWz1h2w2gwiznv_55f1z\"\n",
    "state=\"ct\"\n",
    "city=\"cheshire\"\n",
    "childtype=\"zipcode\"\n",
    "\n",
    "\n",
    "query_url = f\"{base_url}zws-id={zws_id}&state={state}&city={city}&childtype={childtype}\"\n",
    "print(f\"Processing: {query_url}\")\n",
    "\n"
   ]
  },
  {
   "cell_type": "code",
   "execution_count": 80,
   "metadata": {},
   "outputs": [
    {
     "name": "stdout",
     "output_type": "stream",
     "text": [
      "{\n",
      "    \"RegionChildren:regionchildren\": {\n",
      "        \"@xmlns:RegionChildren\": \"http://www.zillow.com/static/xsd/RegionChildren.xsd\",\n",
      "        \"@xmlns:xsi\": \"http://www.w3.org/2001/XMLSchema-instance\",\n",
      "        \"@xsi:schemaLocation\": \"http://www.zillow.com/static/xsd/RegionChildren.xsd https://www.zillowstatic.com/vstatic/80d5e73/static/xsd/RegionChildren.xsd\",\n",
      "        \"message\": {\n",
      "            \"code\": \"0\",\n",
      "            \"text\": \"Request successfully processed\"\n",
      "        },\n",
      "        \"request\": {\n",
      "            \"childtype\": \"zipcode\",\n",
      "            \"city\": \"cheshire\",\n",
      "            \"state\": \"ct\"\n",
      "        },\n",
      "        \"response\": {\n",
      "            \"list\": {\n",
      "                \"count\": \"3\",\n",
      "                \"region\": [\n",
      "                    {\n",
      "                        \"id\": \"60293\",\n",
      "                        \"latitude\": \"41.505877\",\n",
      "                        \"longitude\": \"-72.907831\",\n",
      "                        \"name\": \"06410\",\n",
      "                        \"zindex\": {\n",
      "                            \"#text\": \"299900\",\n",
      "                            \"@currency\": \"USD\"\n",
      "                        }\n",
      "                    },\n",
      "                    {\n",
      "                        \"id\": \"60294\",\n",
      "                        \"latitude\": \"41.543824\",\n",
      "                        \"longitude\": \"-72.919173\",\n",
      "                        \"name\": \"06411\"\n",
      "                    },\n",
      "                    {\n",
      "                        \"id\": \"60291\",\n",
      "                        \"latitude\": \"41.543824\",\n",
      "                        \"longitude\": \"-72.919173\",\n",
      "                        \"name\": \"06408\"\n",
      "                    }\n",
      "                ]\n",
      "            },\n",
      "            \"region\": {\n",
      "                \"id\": \"24056\",\n",
      "                \"latitude\": \"41.505954\",\n",
      "                \"longitude\": \"-72.907859\"\n",
      "            },\n",
      "            \"subregiontype\": \"zipcode\"\n",
      "        }\n",
      "    }\n",
      "}\n"
     ]
    }
   ],
   "source": [
    "# import xmltodict\n",
    "\n",
    "data = requests.get(query_url)\n",
    "xpars = xmltodict.parse(data.text)\n",
    "json_data = json.dumps(xpars, sort_keys=True, indent=4)\n",
    "print(json_data) "
   ]
  },
  {
   "cell_type": "code",
   "execution_count": null,
   "metadata": {},
   "outputs": [],
   "source": []
  },
  {
   "cell_type": "code",
   "execution_count": null,
   "metadata": {},
   "outputs": [],
   "source": []
  },
  {
   "cell_type": "code",
   "execution_count": null,
   "metadata": {},
   "outputs": [],
   "source": []
  }
 ],
 "metadata": {
  "kernelspec": {
   "display_name": "Python 3",
   "language": "python",
   "name": "python3"
  },
  "language_info": {
   "codemirror_mode": {
    "name": "ipython",
    "version": 3
   },
   "file_extension": ".py",
   "mimetype": "text/x-python",
   "name": "python",
   "nbconvert_exporter": "python",
   "pygments_lexer": "ipython3",
   "version": "3.6.6"
  }
 },
 "nbformat": 4,
 "nbformat_minor": 2
}
