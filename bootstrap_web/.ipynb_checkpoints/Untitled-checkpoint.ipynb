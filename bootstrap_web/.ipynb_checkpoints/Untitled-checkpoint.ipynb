{
 "cells": [
  {
   "cell_type": "code",
   "execution_count": 1,
   "metadata": {},
   "outputs": [],
   "source": [
    "import predict_interface\n",
    "import numpy as np\n",
    "import sys"
   ]
  },
  {
   "cell_type": "code",
   "execution_count": 2,
   "metadata": {},
   "outputs": [
    {
     "name": "stdout",
     "output_type": "stream",
     "text": [
      "WARNING:tensorflow:From /anaconda3/envs/PythonData/lib/python3.6/site-packages/tensorflow/python/framework/op_def_library.py:263: colocate_with (from tensorflow.python.framework.ops) is deprecated and will be removed in a future version.\n",
      "Instructions for updating:\n",
      "Colocations handled automatically by placer.\n",
      "WARNING:tensorflow:From /anaconda3/envs/PythonData/lib/python3.6/site-packages/tensorflow/python/util/tf_should_use.py:193: initialize_all_variables (from tensorflow.python.ops.variables) is deprecated and will be removed after 2017-03-02.\n",
      "Instructions for updating:\n",
      "Use `tf.global_variables_initializer` instead.\n",
      "TRAIN!!!\n",
      "Extracting MNIST_data/train-images-idx3-ubyte.gz\n",
      "Extracting MNIST_data/train-labels-idx1-ubyte.gz\n",
      "Extracting MNIST_data/t10k-images-idx3-ubyte.gz\n",
      "Extracting MNIST_data/t10k-labels-idx1-ubyte.gz\n",
      "0.9126\n",
      "File img/-f.png doesn't exist\n"
     ]
    },
    {
     "ename": "NameError",
     "evalue": "name 'exit' is not defined",
     "output_type": "error",
     "traceback": [
      "\u001b[0;31m---------------------------------------------------------------------------\u001b[0m",
      "\u001b[0;31mNameError\u001b[0m                                 Traceback (most recent call last)",
      "\u001b[0;32m<ipython-input-2-3d588dfebe4f>\u001b[0m in \u001b[0;36m<module>\u001b[0;34m\u001b[0m\n\u001b[1;32m      3\u001b[0m \u001b[0mtrain\u001b[0m \u001b[0;34m=\u001b[0m \u001b[0;32mFalse\u001b[0m \u001b[0;32mif\u001b[0m \u001b[0mlen\u001b[0m\u001b[0;34m(\u001b[0m\u001b[0msys\u001b[0m\u001b[0;34m.\u001b[0m\u001b[0margv\u001b[0m\u001b[0;34m)\u001b[0m \u001b[0;34m==\u001b[0m \u001b[0;36m2\u001b[0m \u001b[0;32melse\u001b[0m \u001b[0msys\u001b[0m\u001b[0;34m.\u001b[0m\u001b[0margv\u001b[0m\u001b[0;34m[\u001b[0m\u001b[0;36m2\u001b[0m\u001b[0;34m]\u001b[0m\u001b[0;34m\u001b[0m\u001b[0;34m\u001b[0m\u001b[0m\n\u001b[1;32m      4\u001b[0m \u001b[0;34m\u001b[0m\u001b[0m\n\u001b[0;32m----> 5\u001b[0;31m \u001b[0mret_vals\u001b[0m \u001b[0;34m=\u001b[0m \u001b[0mpredict_interface\u001b[0m\u001b[0;34m.\u001b[0m\u001b[0mpred_from_img\u001b[0m\u001b[0;34m(\u001b[0m\u001b[0mimage\u001b[0m\u001b[0;34m,\u001b[0m \u001b[0mtrain\u001b[0m\u001b[0;34m)\u001b[0m\u001b[0;34m\u001b[0m\u001b[0;34m\u001b[0m\u001b[0m\n\u001b[0m\u001b[1;32m      6\u001b[0m \u001b[0;34m\u001b[0m\u001b[0m\n\u001b[1;32m      7\u001b[0m \u001b[0mprint\u001b[0m\u001b[0;34m(\u001b[0m\u001b[0;34m\" \"\u001b[0m\u001b[0;34m)\u001b[0m\u001b[0;34m\u001b[0m\u001b[0;34m\u001b[0m\u001b[0m\n",
      "\u001b[0;32m~/Documents/UA-Data/Finale/tensorflow-mnist/predict_interface.py\u001b[0m in \u001b[0;36mpred_from_img\u001b[0;34m(image, train)\u001b[0m\n\u001b[1;32m    162\u001b[0m         \u001b[0;32mif\u001b[0m \u001b[0;32mnot\u001b[0m \u001b[0mos\u001b[0m\u001b[0;34m.\u001b[0m\u001b[0mpath\u001b[0m\u001b[0;34m.\u001b[0m\u001b[0mexists\u001b[0m\u001b[0;34m(\u001b[0m\u001b[0;34m\"img/\"\u001b[0m \u001b[0;34m+\u001b[0m \u001b[0mimage\u001b[0m \u001b[0;34m+\u001b[0m \u001b[0;34m\".png\"\u001b[0m\u001b[0;34m)\u001b[0m\u001b[0;34m:\u001b[0m\u001b[0;34m\u001b[0m\u001b[0;34m\u001b[0m\u001b[0m\n\u001b[1;32m    163\u001b[0m                 \u001b[0mprint\u001b[0m\u001b[0;34m(\u001b[0m\u001b[0;34m\"File img/\"\u001b[0m \u001b[0;34m+\u001b[0m \u001b[0mimage\u001b[0m \u001b[0;34m+\u001b[0m \u001b[0;34m\".png doesn't exist\"\u001b[0m\u001b[0;34m)\u001b[0m\u001b[0;34m\u001b[0m\u001b[0;34m\u001b[0m\u001b[0m\n\u001b[0;32m--> 164\u001b[0;31m                 \u001b[0mexit\u001b[0m\u001b[0;34m(\u001b[0m\u001b[0;36m1\u001b[0m\u001b[0;34m)\u001b[0m\u001b[0;34m\u001b[0m\u001b[0;34m\u001b[0m\u001b[0m\n\u001b[0m\u001b[1;32m    165\u001b[0m \u001b[0;34m\u001b[0m\u001b[0m\n\u001b[1;32m    166\u001b[0m         \u001b[0;31m# read original image\u001b[0m\u001b[0;34m\u001b[0m\u001b[0;34m\u001b[0m\u001b[0;34m\u001b[0m\u001b[0m\n",
      "\u001b[0;31mNameError\u001b[0m: name 'exit' is not defined"
     ]
    }
   ],
   "source": [
    "retVals = []\n",
    "image = sys.argv[1]\n",
    "train = False if len(sys.argv) == 2 else sys.argv[2]\n",
    "\n",
    "ret_vals = predict_interface.pred_from_img(image, train)\n",
    "\n",
    "print(\" \")\n",
    "print(\"----------\")\n",
    "\n",
    "bp = ''\n",
    "\t\n",
    "for i in range(0, len(ret_vals)):\n",
    "\tprint(\"Prediction: \" + str(ret_vals[i].get_prediction()) + \", Probability: \" + str(ret_vals[i].get_probability()))\n",
    "\tprint(\"Location in image: x(\" + str(ret_vals[i].get_location()[1]) + \"), y(\" + str(ret_vals[i].get_location()[0]) + \")\")\n",
    "\tprint(\"Top left corner (shifted image): x(\" + str(ret_vals[i].get_top_left()[1]) + \"), y(\" + str(ret_vals[i].get_top_left()[0]) + \")\")\n",
    "\tprint(\"Bottom right corner (shifted image): x(\" + str(ret_vals[i].get_bottom_right()[1]) + \"), y(\" + str(ret_vals[i].get_bottom_right()[0]) + \")\")\n",
    "\tprint(\"Actual width and height (cropped image): w(\" + str(ret_vals[i].get_actual_w_h()[1]) + \"), h(\" + str(ret_vals[i].get_actual_w_h()[0]) + \")\")\n",
    "\tprint(\" \")\n",
    "\tprint(\"----------\")\n",
    "\t# bp= bp + str(newDigProc(fullpath)[0])\n",
    "\n",
    "print(\"A modified image with the predictions: pro-img/IMAGE_NAME_digitized_image.png\")\n",
    "\n",
    "#return bp"
   ]
  },
  {
   "cell_type": "code",
   "execution_count": 2,
   "metadata": {},
   "outputs": [],
   "source": [
    "import shutil, os"
   ]
  },
  {
   "cell_type": "code",
   "execution_count": 7,
   "metadata": {},
   "outputs": [
    {
     "name": "stdout",
     "output_type": "stream",
     "text": [
      "/Users/rchakk/Documents/UA-Data/Finale/ZipML/HTR-model/img\n",
      "/Users/rchakk/Downloads\n",
      "/Users/rchakk/Documents/UA-Data/Finale/ZipML/HTR-model/img\n"
     ]
    }
   ],
   "source": [
    "#source = \"../../../../../Downloads\"\n",
    "old_dir1 = os.getcwd()\n",
    "old_dir = f\"{old_dir1}/img\"\n",
    "print(old_dir)\n",
    "os.chdir(\"../../../../../\")\n",
    "# print(os.getcwd())\n",
    "os.chdir(\"./Downloads\")\n",
    "print(os.getcwd())\n",
    "os.chdir(old_dir)\n",
    "print(os.getcwd())\n",
    "# source = \"../../../../../\"\n",
    "# source1 = source +\"Download\"\n",
    "#print(os.listdir(source))"
   ]
  },
  {
   "cell_type": "code",
   "execution_count": 42,
   "metadata": {},
   "outputs": [
    {
     "name": "stdout",
     "output_type": "stream",
     "text": [
      "/\n"
     ]
    }
   ],
   "source": [
    "!pwd"
   ]
  },
  {
   "cell_type": "code",
   "execution_count": 43,
   "metadata": {},
   "outputs": [],
   "source": [
    "os.chdir(\"/Users/rchakk/Documents/UA-Data/Finale/ZipML/HTR-model\") "
   ]
  },
  {
   "cell_type": "code",
   "execution_count": 44,
   "metadata": {},
   "outputs": [],
   "source": [
    "def moveImage(fn):\n",
    "    old_dir = f\"{os.getcwd()}/img\"\n",
    "#     old_dir = f\"{old_dir1}/img\"\n",
    "    print(old_dir)\n",
    "    os.chdir(\"../../../../../\")\n",
    "    os.chdir(\"./Downloads\")\n",
    "    source = os.getcwd()\n",
    "    print(source)\n",
    "    \n",
    "    shutil.move(f\"{source}/{fn}\", old_dir)\n",
    "\n",
    "#     for f in os.listdir(source):\n",
    "#         if f.endswith(fn):\n",
    "# #             shutil.move(f\"{source}/{f}\", old_dir)\n",
    "#             print(\"File moved\")\n",
    "    os.chdir(old_dir)   \n",
    "    print(os.getcwd())"
   ]
  },
  {
   "cell_type": "code",
   "execution_count": 45,
   "metadata": {},
   "outputs": [
    {
     "name": "stdout",
     "output_type": "stream",
     "text": [
      "/Users/rchakk/Documents/UA-Data/Finale/ZipML/HTR-model/img\n",
      "/Users/rchakk/Downloads\n",
      "/Users/rchakk/Documents/UA-Data/Finale/ZipML/HTR-model/img\n"
     ]
    }
   ],
   "source": [
    "moveImage(\"zip.png\")"
   ]
  },
  {
   "cell_type": "code",
   "execution_count": null,
   "metadata": {},
   "outputs": [],
   "source": []
  }
 ],
 "metadata": {
  "kernelspec": {
   "display_name": "Python 3",
   "language": "python",
   "name": "python3"
  },
  "language_info": {
   "codemirror_mode": {
    "name": "ipython",
    "version": 3
   },
   "file_extension": ".py",
   "mimetype": "text/x-python",
   "name": "python",
   "nbconvert_exporter": "python",
   "pygments_lexer": "ipython3",
   "version": "3.6.8"
  }
 },
 "nbformat": 4,
 "nbformat_minor": 2
}
