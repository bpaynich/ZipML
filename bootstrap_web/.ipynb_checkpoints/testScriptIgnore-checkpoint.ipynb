{
 "cells": [
  {
   "cell_type": "code",
   "execution_count": 1,
   "metadata": {},
   "outputs": [],
   "source": [
    "import os,shutil"
   ]
  },
  {
   "cell_type": "code",
   "execution_count": 2,
   "metadata": {},
   "outputs": [
    {
     "name": "stdout",
     "output_type": "stream",
     "text": [
      "/Users/rchakk/Documents/UA-Data/Finale/ZipML/bootstrap_web\n",
      "/Users/rchakk/Downloads\n",
      "/Users/rchakk/Documents/UA-Data/Finale/ZipML/bootstrap_web\n"
     ]
    }
   ],
   "source": [
    "old_dir = os.getcwd()\n",
    "print(old_dir)\n",
    "os.chdir(\"../../../../../\")\n",
    "os.chdir(\"./Downloads\")\n",
    "source = os.getcwd()\n",
    "print(source)\n",
    "\n",
    "# destination = \"./\"\n",
    "for f in os.listdir(source):\n",
    "    if f.endswith(\"zip.png\"):\n",
    "        shutil.move(source, old_dir)\n",
    "        print(\"File moved\")\n",
    "os.chdir(old_dir)   \n",
    "print(os.getcwd())"
   ]
  },
  {
   "cell_type": "code",
   "execution_count": 61,
   "metadata": {},
   "outputs": [
    {
     "name": "stdout",
     "output_type": "stream",
     "text": [
      "/Users/rchakk/Downloads\n"
     ]
    }
   ],
   "source": [
    "!pwd"
   ]
  },
  {
   "cell_type": "code",
   "execution_count": 44,
   "metadata": {},
   "outputs": [
    {
     "name": "stdout",
     "output_type": "stream",
     "text": [
      "/Users/rchakk/Documents/UA-Data/Finale/ZipML/bootstrap_web\n",
      "/Users/rchakk\n",
      "/Users/rchakk/Downloads\n",
      "/Users/rchakk/Documents/UA-Data/Finale/ZipML/bootstrap_web\n"
     ]
    }
   ],
   "source": [
    "#source = \"../../../../../Downloads\"\n",
    "old_dir = os.getcwd()\n",
    "print(old_dir)\n",
    "os.chdir(\"../../../../../\")\n",
    "print(os.getcwd())\n",
    "os.chdir(\"./Downloads\")\n",
    "print(os.getcwd())\n",
    "os.chdir(old_dir)\n",
    "print(os.getcwd())\n",
    "source = \"../../../../../\"\n",
    "source1 = source +\"Download\"\n",
    "#print(os.listdir(source))"
   ]
  },
  {
   "cell_type": "code",
   "execution_count": 43,
   "metadata": {},
   "outputs": [
    {
     "name": "stdout",
     "output_type": "stream",
     "text": [
      "/Users/rchakk/Documents/UA-Data/Finale/ZipML/bootstrap_web\n"
     ]
    }
   ],
   "source": []
  },
  {
   "cell_type": "code",
   "execution_count": 40,
   "metadata": {},
   "outputs": [],
   "source": []
  },
  {
   "cell_type": "code",
   "execution_count": null,
   "metadata": {},
   "outputs": [],
   "source": []
  }
 ],
 "metadata": {
  "kernelspec": {
   "display_name": "Python 3",
   "language": "python",
   "name": "python3"
  },
  "language_info": {
   "codemirror_mode": {
    "name": "ipython",
    "version": 3
   },
   "file_extension": ".py",
   "mimetype": "text/x-python",
   "name": "python",
   "nbconvert_exporter": "python",
   "pygments_lexer": "ipython3",
   "version": "3.6.8"
  }
 },
 "nbformat": 4,
 "nbformat_minor": 2
}
