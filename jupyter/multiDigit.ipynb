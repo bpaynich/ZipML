{
 "cells": [
  {
   "cell_type": "code",
   "execution_count": 1,
   "metadata": {},
   "outputs": [],
   "source": [
    "# Dependencies to Visualize the model\n",
    "%matplotlib inline\n",
    "from IPython.display import Image, SVG\n",
    "import matplotlib.pyplot as plt\n",
    "import numpy as np\n",
    "np.random.seed(0)\n",
    "\n",
    "# Filepaths, numpy, and Tensorflow\n",
    "import os\n",
    "import numpy as np\n",
    "import tensorflow as tf\n",
    "\n",
    "# Sklearn scaling\n",
    "from sklearn.preprocessing import MinMaxScaler\n",
    "\n",
    "# Keras\n",
    "from tensorflow import keras\n",
    "from tensorflow.keras.models import Sequential\n",
    "from tensorflow.keras.utils import to_categorical\n",
    "from tensorflow.keras.layers import Dense\n",
    "from tensorflow.keras.datasets import mnist"
   ]
  },
  {
   "cell_type": "code",
   "execution_count": 5,
   "metadata": {},
   "outputs": [
    {
     "ename": "ModuleNotFoundError",
     "evalue": "No module named 'digit_detector'",
     "output_type": "error",
     "traceback": [
      "\u001b[0;31m---------------------------------------------------------------------------\u001b[0m",
      "\u001b[0;31mModuleNotFoundError\u001b[0m                       Traceback (most recent call last)",
      "\u001b[0;32m<ipython-input-5-0a291e0a3434>\u001b[0m in \u001b[0;36m<module>\u001b[0;34m\u001b[0m\n\u001b[1;32m      5\u001b[0m \u001b[0;32mimport\u001b[0m \u001b[0mmatplotlib\u001b[0m\u001b[0;34m.\u001b[0m\u001b[0mpyplot\u001b[0m \u001b[0;32mas\u001b[0m \u001b[0mplt\u001b[0m\u001b[0;34m\u001b[0m\u001b[0;34m\u001b[0m\u001b[0m\n\u001b[1;32m      6\u001b[0m \u001b[0;34m\u001b[0m\u001b[0m\n\u001b[0;32m----> 7\u001b[0;31m \u001b[0;32mimport\u001b[0m \u001b[0mdigit_detector\u001b[0m\u001b[0;34m.\u001b[0m\u001b[0mextractor\u001b[0m \u001b[0;32mas\u001b[0m \u001b[0mextractor_\u001b[0m\u001b[0;34m\u001b[0m\u001b[0;34m\u001b[0m\u001b[0m\n\u001b[0m\u001b[1;32m      8\u001b[0m \u001b[0;32mimport\u001b[0m \u001b[0mdigit_detector\u001b[0m\u001b[0;34m.\u001b[0m\u001b[0mfile_io\u001b[0m \u001b[0;32mas\u001b[0m \u001b[0mfile_io\u001b[0m\u001b[0;34m\u001b[0m\u001b[0;34m\u001b[0m\u001b[0m\n\u001b[1;32m      9\u001b[0m \u001b[0;32mimport\u001b[0m \u001b[0mdigit_detector\u001b[0m\u001b[0;34m.\u001b[0m\u001b[0mannotation\u001b[0m \u001b[0;32mas\u001b[0m \u001b[0mann\u001b[0m\u001b[0;34m\u001b[0m\u001b[0;34m\u001b[0m\u001b[0m\n",
      "\u001b[0;31mModuleNotFoundError\u001b[0m: No module named 'digit_detector'"
     ]
    }
   ],
   "source": [
    "\n",
    "import os\n",
    "import cv2\n",
    "import numpy as np\n",
    "import matplotlib.pyplot as plt\n",
    "\n",
    "import digit_detector.extractor as extractor_\n",
    "import digit_detector.file_io as file_io\n",
    "import digit_detector.annotation as ann\n",
    "import digit_detector.show as show\n",
    "import digit_detector.region_proposal as rp\n",
    "\n",
    "N_IMAGES = None\n",
    "DIR = '../train'\n",
    "ANNOTATION_FILE = \"../train/digitStruct.mat\"\n",
    "NEG_OVERLAP_THD = 0.05\n",
    "POS_OVERLAP_THD = 0.6\n",
    "PATCH_SIZE = (32,32)\n",
    "\n",
    "if __name__ == \"__main__\":\n",
    "\n",
    "    # 1. file 을 load\n",
    "    files = file_io.list_files(directory=DIR, pattern=\"*.png\", recursive_option=False, n_files_to_sample=N_IMAGES, random_order=False)\n",
    "    n_files = len(files)\n",
    "    n_train_files = int(n_files * 0.8)\n",
    "    print(n_train_files)\n",
    "    \n",
    "    extractor = extractor_.Extractor(rp.MserRegionProposer(), ann.SvhnAnnotation(ANNOTATION_FILE), rp.OverlapCalculator())\n",
    "    train_samples, train_labels = extractor.extract_patch(files[:n_train_files], PATCH_SIZE, POS_OVERLAP_THD, NEG_OVERLAP_THD)\n",
    "\n",
    "    extractor = extractor_.Extractor(rp.MserRegionProposer(), ann.SvhnAnnotation(ANNOTATION_FILE), rp.OverlapCalculator())\n",
    "    validation_samples, validation_labels = extractor.extract_patch(files[n_train_files:], PATCH_SIZE, POS_OVERLAP_THD, NEG_OVERLAP_THD)\n",
    "\n",
    "    print(train_samples.shape) \n",
    "    print(train_labels.shape)\n",
    "    print(validation_samples.shape) \n",
    "    print(validation_labels.shape)\n",
    "      \n",
    "#     show.plot_images(samples, labels.reshape(-1,).tolist())\n",
    "     \n",
    "    file_io.FileHDF5().write(train_samples, \"train.hdf5\", \"images\", \"w\", dtype=\"uint8\")\n",
    "    file_io.FileHDF5().write(train_labels, \"train.hdf5\", \"labels\", \"a\", dtype=\"int\")\n",
    " \n",
    "    file_io.FileHDF5().write(validation_samples, \"val.hdf5\", \"images\", \"w\", dtype=\"uint8\")\n",
    "    file_io.FileHDF5().write(validation_labels, \"val.hdf5\", \"labels\", \"a\", dtype=\"int\")\n",
    "     \n",
    "    # (457723, 32, 32, 3) (457723, 1)\n",
    "    # (113430, 32, 32, 3) (113430, 1)\n"
   ]
  },
  {
   "cell_type": "code",
   "execution_count": null,
   "metadata": {},
   "outputs": [],
   "source": []
  }
 ],
 "metadata": {
  "kernelspec": {
   "display_name": "Python 3",
   "language": "python",
   "name": "python3"
  },
  "language_info": {
   "codemirror_mode": {
    "name": "ipython",
    "version": 3
   },
   "file_extension": ".py",
   "mimetype": "text/x-python",
   "name": "python",
   "nbconvert_exporter": "python",
   "pygments_lexer": "ipython3",
   "version": "3.6.8"
  }
 },
 "nbformat": 4,
 "nbformat_minor": 2
}
